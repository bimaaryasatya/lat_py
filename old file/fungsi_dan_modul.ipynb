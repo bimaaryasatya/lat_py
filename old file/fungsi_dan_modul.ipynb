{
 "cells": [
  {
   "cell_type": "code",
   "execution_count": 11,
   "metadata": {},
   "outputs": [
    {
     "data": {
      "text/plain": [
       "10"
      ]
     },
     "execution_count": 11,
     "metadata": {},
     "output_type": "execute_result"
    }
   ],
   "source": [
    "def penjumlahan():\n",
    "    angka_a = int(input('Masukkan a='))\n",
    "    angka_b = int(input('Masukkan b='))\n",
    "    hasil = angka_a + angka_b\n",
    "    return hasil\n",
    "\n",
    "penjumlahan()"
   ]
  },
  {
   "cell_type": "code",
   "execution_count": 1,
   "metadata": {},
   "outputs": [
    {
     "name": "stdout",
     "output_type": "stream",
     "text": [
      "Hello World\n"
     ]
    }
   ],
   "source": [
    "def sapaan():\n",
    "    print('Hello World')\n",
    "\n",
    "sapaan()"
   ]
  },
  {
   "cell_type": "code",
   "execution_count": 2,
   "metadata": {},
   "outputs": [
    {
     "name": "stdout",
     "output_type": "stream",
     "text": [
      "(30, 10)\n"
     ]
    }
   ],
   "source": [
    "def hitung(a,b,c,d):\n",
    "    jumlah = a + b\n",
    "    kurang = c - d\n",
    "    return jumlah,kurang\n",
    "\n",
    "hasil = hitung(10,20,30,20)\n",
    "print(hasil)"
   ]
  },
  {
   "cell_type": "code",
   "execution_count": 13,
   "metadata": {},
   "outputs": [
    {
     "name": "stdout",
     "output_type": "stream",
     "text": [
      "Hello, Asep\n",
      "Hello, Budi\n",
      "Hello, Caca\n",
      "Hello, Deni\n",
      "Hello, Edi\n",
      "Hello, Fani\n",
      "Hello, Gani\n",
      "Hello, Huda\n"
     ]
    }
   ],
   "source": [
    "def salam(nama):\n",
    "    pesan = 'Hello,' + nama\n",
    "    return pesan\n",
    "\n",
    "\n",
    "print(salam(' Asep')) # Hello, Asep\n",
    "print(salam(' Budi')) # Hello, Budi\n",
    "\n",
    "print(salam(' Caca')) # Hello, Caca\n",
    "print(salam(' Deni')) # Hello, Deni\n",
    "\n",
    "print(salam(' Edi')) # Hello, Edi\n",
    "print(salam(' Fani')) # Hello, Fani\n",
    "\n",
    "print(salam(' Gani')) # Hello, Gani\n",
    "print(salam(' Huda')) # Hello, Huda"
   ]
  },
  {
   "cell_type": "code",
   "execution_count": 24,
   "metadata": {},
   "outputs": [
    {
     "name": "stdout",
     "output_type": "stream",
     "text": [
      "(20, 13)\n"
     ]
    }
   ],
   "source": [
    "def luas_persegi(a,b,c,d):\n",
    "    return a * b, c + d\n",
    "print(luas_persegi(4,5,6,7))"
   ]
  }
 ],
 "metadata": {
  "kernelspec": {
   "display_name": "Python 3",
   "language": "python",
   "name": "python3"
  },
  "language_info": {
   "codemirror_mode": {
    "name": "ipython",
    "version": 3
   },
   "file_extension": ".py",
   "mimetype": "text/x-python",
   "name": "python",
   "nbconvert_exporter": "python",
   "pygments_lexer": "ipython3",
   "version": "3.12.2"
  }
 },
 "nbformat": 4,
 "nbformat_minor": 2
}
