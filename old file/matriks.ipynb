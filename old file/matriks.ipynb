{
 "cells": [
  {
   "cell_type": "markdown",
   "metadata": {},
   "source": [
    "**MATRIKS PERSEGI**"
   ]
  },
  {
   "cell_type": "code",
   "execution_count": 2,
   "metadata": {},
   "outputs": [
    {
     "name": "stdout",
     "output_type": "stream",
     "text": [
      "[[1 2 8]\n",
      " [3 4 7]\n",
      " [5 6 9]]\n"
     ]
    }
   ],
   "source": [
    "import numpy as np\n",
    "\n",
    "a = np.array([[1,2,8],\n",
    "              [3,4,7],\n",
    "              [5,6,9]])\n",
    "print(a)\n",
    "\n"
   ]
  },
  {
   "cell_type": "markdown",
   "metadata": {},
   "source": [
    "**MATRIKS IDENTITAS**"
   ]
  },
  {
   "cell_type": "code",
   "execution_count": 4,
   "metadata": {},
   "outputs": [
    {
     "name": "stdout",
     "output_type": "stream",
     "text": [
      "[[1. 0. 0.]\n",
      " [0. 1. 0.]\n",
      " [0. 0. 1.]]\n"
     ]
    }
   ],
   "source": [
    "I = np.identity(3)\n",
    "print(I)"
   ]
  },
  {
   "cell_type": "markdown",
   "metadata": {},
   "source": [
    "**MATRIKS NOL**"
   ]
  },
  {
   "cell_type": "code",
   "execution_count": 6,
   "metadata": {},
   "outputs": [
    {
     "name": "stdout",
     "output_type": "stream",
     "text": [
      "[[0. 0. 0.]\n",
      " [0. 0. 0.]\n",
      " [0. 0. 0.]]\n"
     ]
    }
   ],
   "source": [
    "Z = np.zeros((3,3))\n",
    "print(Z)"
   ]
  },
  {
   "cell_type": "markdown",
   "metadata": {},
   "source": [
    "**MATRIKS DIAGONAL**"
   ]
  },
  {
   "cell_type": "code",
   "execution_count": 8,
   "metadata": {},
   "outputs": [
    {
     "name": "stdout",
     "output_type": "stream",
     "text": [
      "[[5 0 0]\n",
      " [0 3 0]\n",
      " [0 0 4]]\n"
     ]
    }
   ],
   "source": [
    "D = np.diag([5,3,4])\n",
    "print(D)"
   ]
  },
  {
   "cell_type": "markdown",
   "metadata": {},
   "source": [
    "**MATRIKS SKALAR**"
   ]
  },
  {
   "cell_type": "code",
   "execution_count": 10,
   "metadata": {},
   "outputs": [
    {
     "name": "stdout",
     "output_type": "stream",
     "text": [
      "Matriks Skalar:\n",
      "[[5. 0. 0.]\n",
      " [0. 5. 0.]\n",
      " [0. 0. 5.]]\n"
     ]
    }
   ],
   "source": [
    "import numpy as np\n",
    "\n",
    "def scalar_matrix(a, b):\n",
    "    return b * np.identity(a)\n",
    "\n",
    "scalars = scalar_matrix(3,5)\n",
    "print(f'Matriks Skalar:\\n{scalars}')"
   ]
  },
  {
   "cell_type": "markdown",
   "metadata": {},
   "source": [
    "**MATRIKS SIMETRIS**"
   ]
  },
  {
   "cell_type": "code",
   "execution_count": 11,
   "metadata": {},
   "outputs": [
    {
     "name": "stdout",
     "output_type": "stream",
     "text": [
      "[[1 2]\n",
      " [2 1]]\n"
     ]
    }
   ],
   "source": [
    "S = np.array([[1,2],[2,1]])\n",
    "print(S)"
   ]
  },
  {
   "cell_type": "markdown",
   "metadata": {},
   "source": [
    "**MATRIKS SEGITIGA ATAS**"
   ]
  },
  {
   "cell_type": "code",
   "execution_count": 12,
   "metadata": {},
   "outputs": [
    {
     "name": "stdout",
     "output_type": "stream",
     "text": [
      "[[1 2 3]\n",
      " [0 5 6]\n",
      " [0 0 9]]\n"
     ]
    }
   ],
   "source": [
    "def create_upper_triangular_matrix(matrix):\n",
    "    return np.triu(matrix)\n",
    "\n",
    "a = np.array([[1,2,3],[4,5,6],[7,8,9]])\n",
    "uppertriu = create_upper_triangular_matrix(a)\n",
    "print(uppertriu)"
   ]
  },
  {
   "cell_type": "markdown",
   "metadata": {},
   "source": [
    "**MATRIKS SEGITIGA BAWAH**"
   ]
  },
  {
   "cell_type": "code",
   "execution_count": 13,
   "metadata": {},
   "outputs": [
    {
     "name": "stdout",
     "output_type": "stream",
     "text": [
      "[[1 0 0]\n",
      " [4 5 0]\n",
      " [7 8 9]]\n"
     ]
    }
   ],
   "source": [
    "def create_upper_triangular_matrix(matrix):\n",
    "    return np.tril(matrix)\n",
    "\n",
    "a = np.array([[1,2,3],[4,5,6],[7,8,9]])\n",
    "uppertriu = create_upper_triangular_matrix(a)\n",
    "print(uppertriu)"
   ]
  },
  {
   "cell_type": "markdown",
   "metadata": {},
   "source": [
    "**TRANSPOSE MATRIKS**"
   ]
  },
  {
   "cell_type": "code",
   "execution_count": 15,
   "metadata": {},
   "outputs": [
    {
     "name": "stdout",
     "output_type": "stream",
     "text": [
      "[[1 4]\n",
      " [2 5]\n",
      " [3 6]]\n"
     ]
    }
   ],
   "source": [
    "A = np.array([[1,2,3],[4,5,6]])\n",
    "A_T = A.T\n",
    "print(A_T)"
   ]
  },
  {
   "cell_type": "markdown",
   "metadata": {},
   "source": [
    "**PENJUMLAHAN MATRIKS**"
   ]
  },
  {
   "cell_type": "code",
   "execution_count": 16,
   "metadata": {},
   "outputs": [],
   "source": [
    "A = np.array([[1,2,3],[4,5,6]])\n",
    "B = np.array([[7,8,9],[10,11,12]])\n",
    "C = A + B"
   ]
  },
  {
   "cell_type": "markdown",
   "metadata": {},
   "source": [
    "**PERKALIAN MATRIKS-VEKTOR**"
   ]
  },
  {
   "cell_type": "code",
   "execution_count": 18,
   "metadata": {},
   "outputs": [],
   "source": [
    "A = np.array([[1,2],[4,5]])\n",
    "B = np.array([5,6])\n",
    "result = A.dot(B)"
   ]
  },
  {
   "cell_type": "markdown",
   "metadata": {
    "slideshow": {
     "slide_type": "subslide"
    }
   },
   "source": [
    "TRANSFORMASI GEOMETRI"
   ]
  },
  {
   "cell_type": "markdown",
   "metadata": {},
   "source": [
    "**TRANSLASI**"
   ]
  },
  {
   "cell_type": "code",
   "execution_count": 19,
   "metadata": {},
   "outputs": [
    {
     "name": "stdout",
     "output_type": "stream",
     "text": [
      "[4 6]\n"
     ]
    }
   ],
   "source": [
    "def translate(point,tx,ty):\n",
    "    translation = np.array([[1,0,tx],\n",
    "                            [0,1,ty],\n",
    "                            [0,0,1]])\n",
    "    point = np.append(point,1)\n",
    "    new_point = translation.dot(point)\n",
    "    return new_point[:2]\n",
    "\n",
    "point = np.array([1,2])\n",
    "translated_point = translate(point,3,4)\n",
    "print(translated_point)"
   ]
  },
  {
   "cell_type": "code",
   "execution_count": 5,
   "metadata": {},
   "outputs": [
    {
     "name": "stdout",
     "output_type": "stream",
     "text": [
      "[[ 23  34  61]\n",
      " [ 31  46  83]\n",
      " [ 39  58 105]]\n"
     ]
    }
   ],
   "source": [
    "import numpy as np\n",
    "\n",
    "A = np.array([[1,2,5],\n",
    "              [3,4,6]])\n",
    "B = np.array([[5,6],\n",
    "              [7,8],\n",
    "              [9,10]])\n",
    "\n",
    "C = np.dot(B,A)\n",
    "\n",
    "print(C)"
   ]
  },
  {
   "cell_type": "code",
   "execution_count": 17,
   "metadata": {},
   "outputs": [
    {
     "name": "stdout",
     "output_type": "stream",
     "text": [
      "[196 376]\n"
     ]
    }
   ],
   "source": [
    "def f(x):\n",
    "    A = np.array([\n",
    "        [1,2,3],\n",
    "        [3,4,5]])\n",
    "    return np.dot(A,x)\n",
    "\n",
    "def g(x):\n",
    "    B = np.array([\n",
    "        [5,6],\n",
    "        [7,8],\n",
    "        [9,10]])\n",
    "    return np.dot(B,x)\n",
    "\n",
    "def h(x):\n",
    "    return f(g(x))\n",
    "\n",
    "x = np.array([2,2])\n",
    "print(h(x))"
   ]
  },
  {
   "cell_type": "code",
   "execution_count": 19,
   "metadata": {},
   "outputs": [
    {
     "name": "stdout",
     "output_type": "stream",
     "text": [
      "Matrix Q:\n",
      "[[-0.31622777 -0.9486833 ]\n",
      " [-0.9486833   0.31622777]]\n",
      "Matrix R:\n",
      "[[-3.16227766 -4.42718872]\n",
      " [ 0.         -0.63245553]]\n"
     ]
    }
   ],
   "source": [
    "from scipy.linalg import qr\n",
    "\n",
    "A = np.array([[1,2],\n",
    "              [3,4]])\n",
    "Q, R = qr(A)\n",
    "\n",
    "print(\"Matrix Q:\")\n",
    "print(Q)\n",
    "print(\"Matrix R:\")\n",
    "print(R)"
   ]
  },
  {
   "cell_type": "markdown",
   "metadata": {},
   "source": [
    "***Determinan***"
   ]
  },
  {
   "cell_type": "code",
   "execution_count": 8,
   "metadata": {},
   "outputs": [
    {
     "name": "stdout",
     "output_type": "stream",
     "text": [
      "Determinn Matrix 2x2 A: -2.0000000000000004\n",
      "Determinn Matrix 3x3 B: 0.0\n"
     ]
    }
   ],
   "source": [
    "import numpy as np\n",
    "\n",
    "# Matrix 2X2\n",
    "\n",
    "A = np.arange(1,5).reshape(2,2)\n",
    "det_A = np.linalg.det(A)\n",
    "print(f\"Determinn Matrix 2x2 A: {det_A}\")\n",
    "\n",
    "# Matrix 3x3\n",
    "\n",
    "B = np.arange(1,10).reshape(3,3)\n",
    "det_B = np.linalg.det(B)\n",
    "print(f\"Determinn Matrix 3x3 B: {det_B}\")"
   ]
  },
  {
   "cell_type": "code",
   "execution_count": 9,
   "metadata": {},
   "outputs": [
    {
     "name": "stdout",
     "output_type": "stream",
     "text": [
      "Determinan Matriks NxN C : 0.0\n"
     ]
    }
   ],
   "source": [
    "C = np.arange(1,17).reshape(4,4)\n",
    "det_C = np.linalg.det(C)\n",
    "print(f\"Determinan Matriks NxN C : {det_C}\")"
   ]
  }
 ],
 "metadata": {
  "kernelspec": {
   "display_name": "Python 3",
   "language": "python",
   "name": "python3"
  },
  "language_info": {
   "codemirror_mode": {
    "name": "ipython",
    "version": 3
   },
   "file_extension": ".py",
   "mimetype": "text/x-python",
   "name": "python",
   "nbconvert_exporter": "python",
   "pygments_lexer": "ipython3",
   "version": "3.12.2"
  }
 },
 "nbformat": 4,
 "nbformat_minor": 2
}
