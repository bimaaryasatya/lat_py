{
 "cells": [
  {
   "cell_type": "code",
   "execution_count": 7,
   "metadata": {},
   "outputs": [
    {
     "name": "stdout",
     "output_type": "stream",
     "text": [
      "Vektor 1\n",
      "[[  0   5   0]\n",
      " [  0 -10   0]]\n",
      "(1,)\n",
      "Linearly Dependent\n",
      "\n",
      "Vektor 2\n",
      "[[5 2]\n",
      " [4 1]]\n",
      "(0, 1)\n",
      "Linearly Independent\n",
      "\n",
      "Vektor 3\n",
      "[[2 4 3]\n",
      " [4 8 6]]\n",
      "(0,)\n",
      "Linearly Dependent\n",
      "\n"
     ]
    }
   ],
   "source": [
    "import sympy\n",
    "import numpy as np\n",
    "vektors = [ np.array([\n",
    "    [0,5,0],\n",
    "    [0,-10,0]\n",
    "]), np.array([\n",
    "    [5,2],\n",
    "    [4,1]\n",
    "]), np.array([\n",
    "    [2,4,3],\n",
    "    [4,8,6]\n",
    "])]\n",
    "i = 0\n",
    "for vektor in vektors:\n",
    "  i += 1\n",
    "  print(f\"Vektor {i}\")\n",
    "  print (vektor)\n",
    "  _, indexes = sympy.Matrix(vektor).T.rref()\n",
    "  print(indexes)\n",
    "  if len(indexes) == 2:\n",
    "    print('Linearly Independent\\n')\n",
    "  else:\n",
    "    print('Linearly Dependent\\n')"
   ]
  },
  {
   "cell_type": "code",
   "execution_count": 8,
   "metadata": {},
   "outputs": [
    {
     "name": "stdout",
     "output_type": "stream",
     "text": [
      "Pivot columns: (0,)\n",
      "Linearly Dependent\n"
     ]
    }
   ],
   "source": [
    "import sympy\n",
    "\n",
    "# Define the matrix\n",
    "vektor = [[2, 4, 3],\n",
    "          [4, 8, 6]]\n",
    "\n",
    "# Perform row reduction and get the pivot columns\n",
    "_, indexes = sympy.Matrix(vektor).T.rref()\n",
    "\n",
    "# Print the pivot columns\n",
    "print(\"Pivot columns:\", indexes)\n",
    "\n",
    "# Check if there are 2 pivot columns (implying linear independence)\n",
    "if len(indexes) == 2:\n",
    "    print('Linearly Independent')\n",
    "else:\n",
    "    print('Linearly Dependent')"
   ]
  }
 ],
 "metadata": {
  "kernelspec": {
   "display_name": "Python 3",
   "language": "python",
   "name": "python3"
  },
  "language_info": {
   "codemirror_mode": {
    "name": "ipython",
    "version": 3
   },
   "file_extension": ".py",
   "mimetype": "text/x-python",
   "name": "python",
   "nbconvert_exporter": "python",
   "pygments_lexer": "ipython3",
   "version": "3.12.2"
  }
 },
 "nbformat": 4,
 "nbformat_minor": 2
}
