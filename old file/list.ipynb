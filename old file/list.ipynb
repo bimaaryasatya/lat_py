{
 "cells": [
  {
   "cell_type": "code",
   "execution_count": 9,
   "metadata": {},
   "outputs": [
    {
     "name": "stdout",
     "output_type": "stream",
     "text": [
      "kicau mania\n",
      "adul\n",
      "ikhsan\n"
     ]
    }
   ],
   "source": [
    "my_list = ['Subandrio','adul','saif']\n",
    "\n",
    "my_list.append('ikhsan')\n",
    "my_list.insert(0,'kicau mania')\n",
    "my_list.remove('Subandrio')\n",
    "del my_list[2]\n",
    "\n",
    "for nama in my_list:\n",
    "    print(nama)"
   ]
  },
  {
   "cell_type": "code",
   "execution_count": 17,
   "metadata": {},
   "outputs": [
    {
     "name": "stdout",
     "output_type": "stream",
     "text": [
      "adul\n",
      "2\n",
      "1\n",
      "3\n"
     ]
    }
   ],
   "source": [
    "print(my_list[1])\n",
    "print(my_list.index('ikhsan'))\n",
    "print(my_list.count('ikhsan'))\n",
    "print(len(my_list))\n",
    "\n"
   ]
  },
  {
   "cell_type": "code",
   "execution_count": 27,
   "metadata": {},
   "outputs": [
    {
     "name": "stdout",
     "output_type": "stream",
     "text": [
      "[4, 2, 6, 3, 5, 1]\n"
     ]
    }
   ],
   "source": [
    "my_list22 = [1,5,3,6,2,4]\n",
    "\n",
    "my_list22.reverse()\n",
    "print(my_list22)\n"
   ]
  },
  {
   "cell_type": "code",
   "execution_count": 29,
   "metadata": {},
   "outputs": [
    {
     "name": "stdout",
     "output_type": "stream",
     "text": [
      "[1, 2, 3, 4, 5, 6]\n",
      "[6, 5, 4, 3, 2, 1]\n"
     ]
    }
   ],
   "source": [
    "my_list22.sort()\n",
    "print(my_list22)\n",
    "\n",
    "my_list22.reverse()\n",
    "print(my_list22)"
   ]
  },
  {
   "cell_type": "code",
   "execution_count": 41,
   "metadata": {},
   "outputs": [
    {
     "name": "stdout",
     "output_type": "stream",
     "text": [
      "{'nama': 'fadil', 'umur': 20, 'nim': '23090118', 'alamat': 'jalan raya'}\n"
     ]
    }
   ],
   "source": [
    "data = {'nama':'fadil','umur':20,'kelas':'2C'}\n",
    "\n",
    "data['nim'] = '23090118'\n",
    "data['alamat'] = 'jalan raya'\n",
    "del data['kelas']\n",
    "print(data)"
   ]
  },
  {
   "cell_type": "code",
   "execution_count": 7,
   "metadata": {},
   "outputs": [
    {
     "name": "stdout",
     "output_type": "stream",
     "text": [
      "1. Nama:herman bengkulu\n",
      "   Kota:ohio\n",
      "2. Nama:reza kecap\n",
      "   Kota:miami\n",
      "3. Nama:zaki indomie\n",
      "   Kota:ohio\n",
      "4. Nama:agus fried chicken\n",
      "   Kota:ohio\n"
     ]
    }
   ],
   "source": [
    "person = [\n",
    "    {'nama':'herman bengkulu','kota':'ohio'},\n",
    "    {'nama':'reza kecap','kota':'miami'},\n",
    "    {'nama':'zaki indomie','kota':'ohio'},\n",
    "    {'nama':'agus fried chicken','kota':'ohio'}\n",
    "]\n",
    "\n",
    "j = 0\n",
    "for i in person:\n",
    "    j += 1\n",
    "    print(f'{j}. Nama:{i['nama']}\\n   Kota:{i[\"kota\"]}')"
   ]
  }
 ],
 "metadata": {
  "kernelspec": {
   "display_name": "Python 3",
   "language": "python",
   "name": "python3"
  },
  "language_info": {
   "codemirror_mode": {
    "name": "ipython",
    "version": 3
   },
   "file_extension": ".py",
   "mimetype": "text/x-python",
   "name": "python",
   "nbconvert_exporter": "python",
   "pygments_lexer": "ipython3",
   "version": "3.12.2"
  }
 },
 "nbformat": 4,
 "nbformat_minor": 2
}
